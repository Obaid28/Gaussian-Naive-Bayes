{
 "cells": [
  {
   "cell_type": "code",
   "execution_count": 77,
   "metadata": {},
   "outputs": [],
   "source": [
    "# this function implements feature scaling\n",
    "\n",
    "def featurescaling(data):\n",
    "    \n",
    "    for i in range (0,22):               # iterating through the columns leaving the last column as it is for labels\n",
    "        colmax = (max(data[i]))          # finding max of column\n",
    "        colmin = (min(data[i]))          # finding min of column \n",
    "        for j in data.index:             # iterating through rows in a column \n",
    "            data[i][j] = (data[i][j] - colmin) / (colmax-colmin ) # applying formula for feature scaling\n",
    "\n",
    "    return data                 "
   ]
  },
  {
   "cell_type": "code",
   "execution_count": 80,
   "metadata": {},
   "outputs": [],
   "source": [
    "# this function is used to split the training data on the basis of class labels\n",
    "\n",
    "def seperateclassdata (trainingdata):\n",
    "\n",
    "    class0 = trainingdata[trainingdata[22] == 0]\n",
    "    class1 = trainingdata[trainingdata[22] == 1]\n",
    "    \n",
    "    return class0,class1"
   ]
  },
  {
   "cell_type": "code",
   "execution_count": 94,
   "metadata": {},
   "outputs": [],
   "source": [
    "# this function implements the formula of Gaussian Naive Bayes\n",
    "\n",
    "def GaussianNBvalue (x,mean,std):\n",
    "    \n",
    "    numerator = math.exp(-(math.pow(x-mean,2)/(2*math.pow(std,2))))\n",
    "    denominator = math.sqrt(2*math.pi)*std\n",
    "    \n",
    "    return(numerator/denominator)"
   ]
  },
  {
   "cell_type": "code",
   "execution_count": 125,
   "metadata": {},
   "outputs": [],
   "source": [
    "# This function first calculates the probabilities of each class and then predicts the correct class label\n",
    "\n",
    "def PredictClassLabels(testingdata , mean_class0 , mean_class1 , std_class0 , std_class1):\n",
    "\n",
    "    ClassPrediction = []                    # all the predicted labels are stored in this list\n",
    "     \n",
    "    for row in range(0,len(testingdata)):   # iterates through the rows in testing data\n",
    "    \n",
    "        probclass0 = 1\n",
    "        probclass1 = 1\n",
    "    \n",
    "        for col in range (0,22):            # loops through columns in the testing daya\n",
    "        \n",
    "            x = testingdata.iloc[row][col]  # value in the testing data\n",
    "        \n",
    "            probclass0 *= GaussianNBvalue(x, mean_class0[col], std_class0[col])  # function call to find probability of class0\n",
    "            probclass1 *= GaussianNBvalue(x, mean_class1[col], std_class1[col])  # function call to find probability of class1\n",
    "    \n",
    "        probclass0 = probclass0 * PriorProbobility_class0  # multiplies the value with the PriorProbability of the class \n",
    "        probclass1 = probclass1 * PriorProbobility_class1  # multiplies the value with the PriorProbability of the class\n",
    "\n",
    "        # the label with higher probability is assigned \n",
    "        \n",
    "        if (probclass0 > probclass1): \n",
    "            ClassPrediction.append(0)\n",
    "        else:\n",
    "            ClassPrediction.append(1)\n",
    "            \n",
    "    return ClassPrediction "
   ]
  },
  {
   "cell_type": "code",
   "execution_count": 76,
   "metadata": {
    "scrolled": true
   },
   "outputs": [],
   "source": [
    "import pandas as pd\n",
    "import math\n",
    "\n",
    "# The code snippet below reads both the file and perform feature scaling on them one by one\n",
    "\n",
    "trainingdata = pd.read_excel (r'parktraining.xlsx', header=None )  \n",
    "testingdata = pd.read_excel (r'parktesting.xlsx', header=None )\n",
    "trainingdata = featurescaling(trainingdata)\n",
    "testingdata = featurescaling(testingdata)\n"
   ]
  },
  {
   "cell_type": "code",
   "execution_count": 56,
   "metadata": {},
   "outputs": [],
   "source": [
    "# The lines below are used to find no of classes and the prior probabilities of the classes\n",
    "\n",
    "labelsinfo = trainingdata[22].value_counts()\n",
    "\n",
    "no_of_classes = len(labelsinfo)\n",
    "PriorProbobility_class0  =  labelsinfo[0] / (labelsinfo[0] + labelsinfo[1])\n",
    "PriorProbobility_class1  =  labelsinfo[1] / (labelsinfo[0] + labelsinfo[1])\n"
   ]
  },
  {
   "cell_type": "code",
   "execution_count": 73,
   "metadata": {
    "scrolled": false
   },
   "outputs": [],
   "source": [
    "# function is called to split the data into two classes \n",
    "\n",
    "class0 , class1 = seperateclassdata(trainingdata)\n",
    "\n",
    "# mean and std deviation is calculated for each class\n",
    "\n",
    "mean_class0 = class0.mean() \n",
    "mean_class1 = class1.mean()\n",
    "std_class0 = class0.std()\n",
    "std_class1 = class1.std()"
   ]
  },
  {
   "cell_type": "code",
   "execution_count": 128,
   "metadata": {},
   "outputs": [],
   "source": [
    "# This function compares the predicted labels with actual labels and calculates accuracy\n",
    "\n",
    "def CalculateAccuracy(PredictedClassLabels,ActualClassLabels):\n",
    "    \n",
    "    match = 0\n",
    "    \n",
    "    for i in range(len(ActualClassLabels)):\n",
    "        if ActualClassLabels[i] == PredictedClassLabels[i]:\n",
    "            match += 1\n",
    "            \n",
    "    return (match/float(len(ActualClassLabels)))*100.0"
   ]
  },
  {
   "cell_type": "code",
   "execution_count": 129,
   "metadata": {},
   "outputs": [
    {
     "name": "stdout",
     "output_type": "stream",
     "text": [
      "89.74358974358975\n"
     ]
    }
   ],
   "source": [
    "PredictedClassLabels = PredictClassLabels(testingdata , mean_class0 , mean_class1 , std_class0 , std_class1)\n",
    "ActualClassLabels = list(testingdata[22])\n",
    "\n",
    "Accuracy = CalculateAccuracy(PredictedClassLabels,ActualClassLabels)\n",
    "\n",
    "print(Accuracy)"
   ]
  },
  {
   "cell_type": "code",
   "execution_count": null,
   "metadata": {},
   "outputs": [],
   "source": []
  }
 ],
 "metadata": {
  "kernelspec": {
   "display_name": "Python 3",
   "language": "python",
   "name": "python3"
  },
  "language_info": {
   "codemirror_mode": {
    "name": "ipython",
    "version": 3
   },
   "file_extension": ".py",
   "mimetype": "text/x-python",
   "name": "python",
   "nbconvert_exporter": "python",
   "pygments_lexer": "ipython3",
   "version": "3.7.4"
  }
 },
 "nbformat": 4,
 "nbformat_minor": 2
}
